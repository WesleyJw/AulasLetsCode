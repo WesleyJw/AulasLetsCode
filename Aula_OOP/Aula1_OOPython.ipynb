{
 "cells": [
  {
   "cell_type": "markdown",
   "id": "d3ed94d9",
   "metadata": {},
   "source": [
    "<div class=\"cont_title\"> \n",
    "\n",
    "<h1> <center> Programação orientada a objetos: Python </center> </h1>\n",
    "\n",
    "<p class=\"professor_name\"> <strong> Professor: PhD. Welsey Lima </strong> </p>\n",
    "\n",
    "<ul>\n",
    "    <li>Email: wesley.datascientist@gmail.com</li>\n",
    "    <li>Celular: (81) 99594-7698</li>\n",
    "    <li>Github: <a href=\"https://wesleyjw.github.io/\" target=\"_blanck\">Código da aula!</a></li>\n",
    "</ul>\n",
    "\n",
    "</div>\n",
    "\n",
    "<img src=\"images/letsCode.jpg\" class=\"img\">    "
   ]
  },
  {
   "cell_type": "markdown",
   "id": "0b465293",
   "metadata": {},
   "source": [
    "## Tópicos da Aula\n",
    "\n",
    "- [Revisão de Conceitos](#Revisão-de-conceitos)\n",
    "- [Revisão de Aplicada](#Revisão-de-Aplicada)\n"
   ]
  },
  {
   "cell_type": "markdown",
   "id": "11bd4854",
   "metadata": {},
   "source": [
    "## Revisão de Conceitos \n",
    "\n",
    "\n",
    "\n"
   ]
  },
  {
   "cell_type": "markdown",
   "id": "9b3f79fe",
   "metadata": {},
   "source": [
    "\n",
    "<div class=\"coding\">\n",
    "\n",
    "```Python\n",
    "import numpy as np\n",
    "import pandas as pd\n",
    "\n",
    "class Funcionarios:\n",
    "    \n",
    "    def __init__(self):\n",
    "        self.nome = nome\n",
    "        self.idade = idade\n",
    "        self.sexo = sexo\n",
    "\n",
    "```\n",
    "    \n",
    "</div>"
   ]
  },
  {
   "cell_type": "code",
   "execution_count": 30,
   "id": "c9a72c49",
   "metadata": {},
   "outputs": [
    {
     "data": {
      "text/html": [
       "<!--Css config to presentation-->\n",
       "<link rel=\"stylesheet\" type=\"text/css\" href=\"./custom.css\" />\n"
      ],
      "text/plain": [
       "<IPython.core.display.HTML object>"
      ]
     },
     "metadata": {},
     "output_type": "display_data"
    }
   ],
   "source": [
    "%%HTML\n",
    "<!--Css config to presentation-->\n",
    "<link rel=\"stylesheet\" type=\"text/css\" href=\"./custom.css\" />"
   ]
  },
  {
   "cell_type": "code",
   "execution_count": 6,
   "id": "211df21e",
   "metadata": {},
   "outputs": [],
   "source": [
    "import pandas as pd"
   ]
  },
  {
   "cell_type": "code",
   "execution_count": 20,
   "id": "7708f1b9",
   "metadata": {},
   "outputs": [
    {
     "name": "stdout",
     "output_type": "stream",
     "text": [
      "Wesley\n",
      "Wesley\n",
      "Wesley\n",
      "Wesley\n",
      "Wesley\n",
      "Wesley\n",
      "Wesley\n",
      "Wesley\n",
      "Wesley\n",
      "Wesley\n"
     ]
    }
   ],
   "source": [
    "for _ in range(10):\n",
    "    print(\"Wesley\")"
   ]
  },
  {
   "cell_type": "markdown",
   "id": "30e63e7d",
   "metadata": {},
   "source": [
    "## Revisão Aplicada"
   ]
  }
 ],
 "metadata": {
  "kernelspec": {
   "display_name": "Python 3 (ipykernel)",
   "language": "python",
   "name": "python3"
  },
  "language_info": {
   "codemirror_mode": {
    "name": "ipython",
    "version": 3
   },
   "file_extension": ".py",
   "mimetype": "text/x-python",
   "name": "python",
   "nbconvert_exporter": "python",
   "pygments_lexer": "ipython3",
   "version": "3.9.7"
  }
 },
 "nbformat": 4,
 "nbformat_minor": 5
}
