{
 "cells": [
  {
   "cell_type": "markdown",
   "id": "d3ed94d9",
   "metadata": {},
   "source": [
    "<div class=\"cont_title\"> \n",
    "\n",
    "<h1> <center> Programação orientada a objetos: Python </center> </h1>\n",
    "\n",
    "<p class=\"professor_name\"> <strong> Professor: PhD. Welsey Lima </strong> </p>\n",
    "\n",
    "<ul>\n",
    "    <li>Email: wesley.datascientist@gmail.com</li>\n",
    "    <li>Celular: (81) 99594-7698</li>\n",
    "    <li>Github: <a href=\"https://wesleyjw.github.io/\" target=\"_blanck\">Código da aula!</a></li>\n",
    "</ul>\n",
    "\n",
    "</div>\n",
    "\n",
    "<img src=\"images/letsCode.jpg\" class=\"img\">    "
   ]
  },
  {
   "cell_type": "markdown",
   "id": "0b465293",
   "metadata": {},
   "source": [
    "## Tópicos da Aula\n",
    "\n",
    "- [Web Scraping](#web-scraping)\n"
   ]
  },
  {
   "cell_type": "markdown",
   "id": "11bd4854",
   "metadata": {},
   "source": [
    "## Introdução\n",
    "\n",
    "\n",
    "Uma classe é uma classe que nada mais é que uma classe, pois ela é uma classe por definição de classes.\n",
    "\n",
    "\n",
    "<div class=\"coding\">\n",
    "\n",
    "```Python\n",
    "import numpy as np\n",
    "import pandas as pd\n",
    "\n",
    "class Funcionarios:\n",
    "    \n",
    "    def __init__(self):\n",
    "        self.nome = nome\n",
    "        self.idade = idade\n",
    "        self.sexo = sexo\n",
    "\n",
    "```\n",
    "    \n",
    "</div>"
   ]
  },
  {
   "cell_type": "code",
   "execution_count": 30,
   "id": "c9a72c49",
   "metadata": {},
   "outputs": [
    {
     "data": {
      "text/html": [
       "<!--Css config to presentation-->\n",
       "<link rel=\"stylesheet\" type=\"text/css\" href=\"./custom.css\" />\n"
      ],
      "text/plain": [
       "<IPython.core.display.HTML object>"
      ]
     },
     "metadata": {},
     "output_type": "display_data"
    }
   ],
   "source": [
    "%%HTML\n",
    "<!--Css config to presentation-->\n",
    "<link rel=\"stylesheet\" type=\"text/css\" href=\"./custom.css\" />"
   ]
  },
  {
   "cell_type": "code",
   "execution_count": 6,
   "id": "211df21e",
   "metadata": {},
   "outputs": [],
   "source": [
    "import pandas as pd"
   ]
  },
  {
   "cell_type": "code",
   "execution_count": 20,
   "id": "7708f1b9",
   "metadata": {},
   "outputs": [
    {
     "name": "stdout",
     "output_type": "stream",
     "text": [
      "Wesley\n",
      "Wesley\n",
      "Wesley\n",
      "Wesley\n",
      "Wesley\n",
      "Wesley\n",
      "Wesley\n",
      "Wesley\n",
      "Wesley\n",
      "Wesley\n"
     ]
    }
   ],
   "source": [
    "for _ in range(10):\n",
    "    print(\"Wesley\")"
   ]
  },
  {
   "cell_type": "code",
   "execution_count": null,
   "id": "2b0b692c",
   "metadata": {},
   "outputs": [],
   "source": []
  }
 ],
 "metadata": {
  "kernelspec": {
   "display_name": "Python 3 (ipykernel)",
   "language": "python",
   "name": "python3"
  },
  "language_info": {
   "codemirror_mode": {
    "name": "ipython",
    "version": 3
   },
   "file_extension": ".py",
   "mimetype": "text/x-python",
   "name": "python",
   "nbconvert_exporter": "python",
   "pygments_lexer": "ipython3",
   "version": "3.9.7"
  }
 },
 "nbformat": 4,
 "nbformat_minor": 5
}
